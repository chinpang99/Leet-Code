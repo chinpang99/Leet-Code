{
 "cells": [
  {
   "cell_type": "code",
   "execution_count": 27,
   "metadata": {},
   "outputs": [
    {
     "name": "stdout",
     "output_type": "stream",
     "text": [
      "5\n"
     ]
    }
   ],
   "source": [
    "from typing import List\n",
    "\n",
    "class Solution:\n",
    "    def removeDuplicates(self, nums: List[int]) -> int:\n",
    "        final_list=[]\n",
    "        count=0\n",
    "        nums.sort()\n",
    "        for item in nums:\n",
    "            if item in final_list:\n",
    "                if count<1:\n",
    "                    final_list.append(item)\n",
    "                    count+=1\n",
    "            else:\n",
    "                final_list.append(item)\n",
    "                count=0\n",
    "        return len(final_list)\n",
    "\n",
    "                 \n",
    "if __name__ == \"__main__\":\n",
    "    list1=[1,1,1,2,2,3]\n",
    "    solution=Solution().removeDuplicates(list1)\n",
    "    print(solution)"
   ]
  },
  {
   "cell_type": "code",
   "execution_count": null,
   "metadata": {},
   "outputs": [],
   "source": []
  }
 ],
 "metadata": {
  "kernelspec": {
   "display_name": "base",
   "language": "python",
   "name": "python3"
  },
  "language_info": {
   "codemirror_mode": {
    "name": "ipython",
    "version": 3
   },
   "file_extension": ".py",
   "mimetype": "text/x-python",
   "name": "python",
   "nbconvert_exporter": "python",
   "pygments_lexer": "ipython3",
   "version": "3.11.3"
  },
  "orig_nbformat": 4
 },
 "nbformat": 4,
 "nbformat_minor": 2
}
